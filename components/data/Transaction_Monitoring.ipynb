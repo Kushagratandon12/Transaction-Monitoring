{
  "nbformat": 4,
  "nbformat_minor": 0,
  "metadata": {
    "colab": {
      "name": "Transaction_Monitoring.ipynb",
      "provenance": [],
      "collapsed_sections": [],
      "toc_visible": true,
      "include_colab_link": true
    },
    "kernelspec": {
      "display_name": "Python 3",
      "language": "python",
      "name": "python3"
    },
    "language_info": {
      "codemirror_mode": {
        "name": "ipython",
        "version": 3
      },
      "file_extension": ".py",
      "mimetype": "text/x-python",
      "name": "python",
      "nbconvert_exporter": "python",
      "pygments_lexer": "ipython3",
      "version": "3.7.4"
    }
  },
  "cells": [
    {
      "cell_type": "markdown",
      "metadata": {
        "id": "view-in-github",
        "colab_type": "text"
      },
      "source": [
        "<a href=\"https://colab.research.google.com/github/Kushagratandon12/Transaction-Monitoring-/blob/master/Transaction_Monitoring.ipynb\" target=\"_parent\"><img src=\"https://colab.research.google.com/assets/colab-badge.svg\" alt=\"Open In Colab\"/></a>"
      ]
    },
    {
      "cell_type": "markdown",
      "metadata": {
        "id": "KQPIow44ac0g"
      },
      "source": [
        "# **Transaction Monitoring**\n",
        "\n",
        "> Building a model based on a dataset of transactions on wheather the transaction is a case of Money Laundaring.\n",
        ">This is the Final Code that will be running through out the system "
      ]
    },
    {
      "cell_type": "markdown",
      "metadata": {
        "id": "BTLzbsXbho4K"
      },
      "source": [
        "## **Explaratory Data Analysis**"
      ]
    },
    {
      "cell_type": "code",
      "metadata": {
        "id": "cavRc1U4aL_j",
        "colab": {
          "base_uri": "https://localhost:8080/",
          "height": 74
        },
        "outputId": "e9312dcb-7a63-496f-e814-c45f1354365b"
      },
      "source": [
        "# Importing Libraries\n",
        "import pandas as pd\n",
        "import numpy as np\n",
        "import matplotlib.pyplot as plt\n",
        "import seaborn as sns\n",
        "from sklearn import metrics\n",
        "from sklearn.metrics import accuracy_score, f1_score\n",
        "from sklearn.metrics import f1_score,confusion_matrix\n",
        "from sklearn.model_selection import train_test_split\n",
        "import scipy.stats as st\n",
        "from sklearn import ensemble, tree, linear_model"
      ],
      "execution_count": null,
      "outputs": [
        {
          "output_type": "stream",
          "text": [
            "/usr/local/lib/python3.6/dist-packages/statsmodels/tools/_testing.py:19: FutureWarning: pandas.util.testing is deprecated. Use the functions in the public API at pandas.testing instead.\n",
            "  import pandas.util.testing as tm\n"
          ],
          "name": "stderr"
        }
      ]
    },
    {
      "cell_type": "code",
      "metadata": {
        "id": "ftWnpqjaDpQQ",
        "colab": {
          "base_uri": "https://localhost:8080/",
          "height": 128
        },
        "outputId": "7c2c0388-0f2d-403f-acb1-aa1c0ae6da5c"
      },
      "source": [
        "from google.colab import drive\n",
        "drive.mount('/content/drive',force_remount=True)"
      ],
      "execution_count": null,
      "outputs": [
        {
          "output_type": "stream",
          "text": [
            "Go to this URL in a browser: https://accounts.google.com/o/oauth2/auth?client_id=947318989803-6bn6qk8qdgf4n4g3pfee6491hc0brc4i.apps.googleusercontent.com&redirect_uri=urn%3aietf%3awg%3aoauth%3a2.0%3aoob&scope=email%20https%3a%2f%2fwww.googleapis.com%2fauth%2fdocs.test%20https%3a%2f%2fwww.googleapis.com%2fauth%2fdrive%20https%3a%2f%2fwww.googleapis.com%2fauth%2fdrive.photos.readonly%20https%3a%2f%2fwww.googleapis.com%2fauth%2fpeopleapi.readonly&response_type=code\n",
            "\n",
            "Enter your authorization code:\n",
            "··········\n",
            "Mounted at /content/drive\n"
          ],
          "name": "stdout"
        }
      ]
    },
    {
      "cell_type": "code",
      "metadata": {
        "id": "ACN61nupb1Ry",
        "colab": {
          "base_uri": "https://localhost:8080/",
          "height": 407
        },
        "outputId": "7f922a92-e08b-4472-cb24-efe83269b41e"
      },
      "source": [
        "#DISPLAYING OUT DATASET\n",
        "df = pd.read_excel('/content/Transaction Monitoring.xlsx')\n",
        "df"
      ],
      "execution_count": null,
      "outputs": [
        {
          "output_type": "execute_result",
          "data": {
            "text/html": [
              "<div>\n",
              "<style scoped>\n",
              "    .dataframe tbody tr th:only-of-type {\n",
              "        vertical-align: middle;\n",
              "    }\n",
              "\n",
              "    .dataframe tbody tr th {\n",
              "        vertical-align: top;\n",
              "    }\n",
              "\n",
              "    .dataframe thead th {\n",
              "        text-align: right;\n",
              "    }\n",
              "</style>\n",
              "<table border=\"1\" class=\"dataframe\">\n",
              "  <thead>\n",
              "    <tr style=\"text-align: right;\">\n",
              "      <th></th>\n",
              "      <th>step</th>\n",
              "      <th>type</th>\n",
              "      <th>amount</th>\n",
              "      <th>nameOrig</th>\n",
              "      <th>oldbalanceOrg</th>\n",
              "      <th>newbalanceOrig</th>\n",
              "      <th>nameDest</th>\n",
              "      <th>oldbalanceDest</th>\n",
              "      <th>newbalanceDest</th>\n",
              "      <th>isFraud</th>\n",
              "      <th>isFlaggedFraud</th>\n",
              "    </tr>\n",
              "  </thead>\n",
              "  <tbody>\n",
              "    <tr>\n",
              "      <th>0</th>\n",
              "      <td>1</td>\n",
              "      <td>PAYMENT</td>\n",
              "      <td>9839.64</td>\n",
              "      <td>C1231006815</td>\n",
              "      <td>170136.00</td>\n",
              "      <td>160296.36</td>\n",
              "      <td>M1979787155</td>\n",
              "      <td>0.00</td>\n",
              "      <td>0.00</td>\n",
              "      <td>0</td>\n",
              "      <td>0</td>\n",
              "    </tr>\n",
              "    <tr>\n",
              "      <th>1</th>\n",
              "      <td>1</td>\n",
              "      <td>PAYMENT</td>\n",
              "      <td>1864.28</td>\n",
              "      <td>C1666544295</td>\n",
              "      <td>21249.00</td>\n",
              "      <td>19384.72</td>\n",
              "      <td>M2044282225</td>\n",
              "      <td>0.00</td>\n",
              "      <td>0.00</td>\n",
              "      <td>0</td>\n",
              "      <td>0</td>\n",
              "    </tr>\n",
              "    <tr>\n",
              "      <th>2</th>\n",
              "      <td>1</td>\n",
              "      <td>TRANSFER</td>\n",
              "      <td>181.00</td>\n",
              "      <td>C1305486145</td>\n",
              "      <td>181.00</td>\n",
              "      <td>0.00</td>\n",
              "      <td>C553264065</td>\n",
              "      <td>0.00</td>\n",
              "      <td>0.00</td>\n",
              "      <td>1</td>\n",
              "      <td>0</td>\n",
              "    </tr>\n",
              "    <tr>\n",
              "      <th>3</th>\n",
              "      <td>1</td>\n",
              "      <td>CASH_OUT</td>\n",
              "      <td>181.00</td>\n",
              "      <td>C840083671</td>\n",
              "      <td>181.00</td>\n",
              "      <td>0.00</td>\n",
              "      <td>C38997010</td>\n",
              "      <td>21182.00</td>\n",
              "      <td>0.00</td>\n",
              "      <td>1</td>\n",
              "      <td>0</td>\n",
              "    </tr>\n",
              "    <tr>\n",
              "      <th>4</th>\n",
              "      <td>1</td>\n",
              "      <td>PAYMENT</td>\n",
              "      <td>11668.14</td>\n",
              "      <td>C2048537720</td>\n",
              "      <td>41554.00</td>\n",
              "      <td>29885.86</td>\n",
              "      <td>M1230701703</td>\n",
              "      <td>0.00</td>\n",
              "      <td>0.00</td>\n",
              "      <td>0</td>\n",
              "      <td>0</td>\n",
              "    </tr>\n",
              "    <tr>\n",
              "      <th>...</th>\n",
              "      <td>...</td>\n",
              "      <td>...</td>\n",
              "      <td>...</td>\n",
              "      <td>...</td>\n",
              "      <td>...</td>\n",
              "      <td>...</td>\n",
              "      <td>...</td>\n",
              "      <td>...</td>\n",
              "      <td>...</td>\n",
              "      <td>...</td>\n",
              "      <td>...</td>\n",
              "    </tr>\n",
              "    <tr>\n",
              "      <th>50421</th>\n",
              "      <td>9</td>\n",
              "      <td>PAYMENT</td>\n",
              "      <td>11141.77</td>\n",
              "      <td>C1387840921</td>\n",
              "      <td>288064.39</td>\n",
              "      <td>276922.63</td>\n",
              "      <td>M191065722</td>\n",
              "      <td>0.00</td>\n",
              "      <td>0.00</td>\n",
              "      <td>0</td>\n",
              "      <td>0</td>\n",
              "    </tr>\n",
              "    <tr>\n",
              "      <th>50422</th>\n",
              "      <td>9</td>\n",
              "      <td>CASH_OUT</td>\n",
              "      <td>346321.39</td>\n",
              "      <td>C1694240929</td>\n",
              "      <td>276922.63</td>\n",
              "      <td>0.00</td>\n",
              "      <td>C1948471365</td>\n",
              "      <td>5516663.89</td>\n",
              "      <td>6847755.96</td>\n",
              "      <td>0</td>\n",
              "      <td>0</td>\n",
              "    </tr>\n",
              "    <tr>\n",
              "      <th>50423</th>\n",
              "      <td>9</td>\n",
              "      <td>CASH_OUT</td>\n",
              "      <td>334943.53</td>\n",
              "      <td>C1628781423</td>\n",
              "      <td>124.00</td>\n",
              "      <td>0.00</td>\n",
              "      <td>C1284792861</td>\n",
              "      <td>0.00</td>\n",
              "      <td>751505.60</td>\n",
              "      <td>0</td>\n",
              "      <td>0</td>\n",
              "    </tr>\n",
              "    <tr>\n",
              "      <th>50424</th>\n",
              "      <td>9</td>\n",
              "      <td>PAYMENT</td>\n",
              "      <td>42299.14</td>\n",
              "      <td>C1964355289</td>\n",
              "      <td>2375843.75</td>\n",
              "      <td>2333544.61</td>\n",
              "      <td>M1704271551</td>\n",
              "      <td>0.00</td>\n",
              "      <td>0.00</td>\n",
              "      <td>0</td>\n",
              "      <td>0</td>\n",
              "    </tr>\n",
              "    <tr>\n",
              "      <th>50425</th>\n",
              "      <td>9</td>\n",
              "      <td>PAYMENT</td>\n",
              "      <td>13263.11</td>\n",
              "      <td>C1642623924</td>\n",
              "      <td>2333544.61</td>\n",
              "      <td>2320281.50</td>\n",
              "      <td>M703525541</td>\n",
              "      <td>0.00</td>\n",
              "      <td>0.00</td>\n",
              "      <td>0</td>\n",
              "      <td>0</td>\n",
              "    </tr>\n",
              "  </tbody>\n",
              "</table>\n",
              "<p>50426 rows × 11 columns</p>\n",
              "</div>"
            ],
            "text/plain": [
              "       step      type     amount  ... newbalanceDest  isFraud  isFlaggedFraud\n",
              "0         1   PAYMENT    9839.64  ...           0.00        0               0\n",
              "1         1   PAYMENT    1864.28  ...           0.00        0               0\n",
              "2         1  TRANSFER     181.00  ...           0.00        1               0\n",
              "3         1  CASH_OUT     181.00  ...           0.00        1               0\n",
              "4         1   PAYMENT   11668.14  ...           0.00        0               0\n",
              "...     ...       ...        ...  ...            ...      ...             ...\n",
              "50421     9   PAYMENT   11141.77  ...           0.00        0               0\n",
              "50422     9  CASH_OUT  346321.39  ...     6847755.96        0               0\n",
              "50423     9  CASH_OUT  334943.53  ...      751505.60        0               0\n",
              "50424     9   PAYMENT   42299.14  ...           0.00        0               0\n",
              "50425     9   PAYMENT   13263.11  ...           0.00        0               0\n",
              "\n",
              "[50426 rows x 11 columns]"
            ]
          },
          "metadata": {
            "tags": []
          },
          "execution_count": 3
        }
      ]
    },
    {
      "cell_type": "markdown",
      "metadata": {
        "id": "pdQqWiNjAxa5"
      },
      "source": [
        "THE TYPE OF TRANSACTIONS THAT WOULD BE MADE ARE MENTIONED BELOW"
      ]
    },
    {
      "cell_type": "code",
      "metadata": {
        "id": "rRBo9kfT1_wo"
      },
      "source": [
        "#SHUFFING /CLEANING THE DATASET\n",
        "df = df.drop(['isFlaggedFraud','step','nameOrig','nameDest'], axis =1 )\n",
        "from sklearn.utils import shuffle\n",
        "df = shuffle(df)"
      ],
      "execution_count": null,
      "outputs": []
    },
    {
      "cell_type": "markdown",
      "metadata": {
        "id": "rdcDKj1IcIun"
      },
      "source": [
        "## **Relationship Analysis**"
      ]
    },
    {
      "cell_type": "code",
      "metadata": {
        "id": "k0JJW53KG8FV"
      },
      "source": [
        "#correlation = df.corr()"
      ],
      "execution_count": null,
      "outputs": []
    },
    {
      "cell_type": "code",
      "metadata": {
        "id": "Y223aOWCG8OT"
      },
      "source": [
        "#sns.heatmap(correlation, xticklabels = correlation.columns,yticklabels = correlation.columns,annot = True )"
      ],
      "execution_count": null,
      "outputs": []
    },
    {
      "cell_type": "code",
      "metadata": {
        "id": "X4xI4lwgG8Ti"
      },
      "source": [
        "#NOT IMPORTANT FOR DISPLAYING \n",
        "#sns.pairplot(df)"
      ],
      "execution_count": null,
      "outputs": []
    },
    {
      "cell_type": "code",
      "metadata": {
        "id": "AmnKb951aH6j",
        "colab": {
          "base_uri": "https://localhost:8080/",
          "height": 198
        },
        "outputId": "2b903f59-ed2e-4a95-922c-8d9f97bdd8e2"
      },
      "source": [
        "#CONVERTING THE TYPE PARAMETER INTO THE LABEL ENCODING \n",
        "from sklearn.preprocessing import OneHotEncoder \n",
        "df=pd.get_dummies(df)\n",
        "df.head()"
      ],
      "execution_count": null,
      "outputs": [
        {
          "output_type": "execute_result",
          "data": {
            "text/html": [
              "<div>\n",
              "<style scoped>\n",
              "    .dataframe tbody tr th:only-of-type {\n",
              "        vertical-align: middle;\n",
              "    }\n",
              "\n",
              "    .dataframe tbody tr th {\n",
              "        vertical-align: top;\n",
              "    }\n",
              "\n",
              "    .dataframe thead th {\n",
              "        text-align: right;\n",
              "    }\n",
              "</style>\n",
              "<table border=\"1\" class=\"dataframe\">\n",
              "  <thead>\n",
              "    <tr style=\"text-align: right;\">\n",
              "      <th></th>\n",
              "      <th>amount</th>\n",
              "      <th>oldbalanceOrg</th>\n",
              "      <th>newbalanceOrig</th>\n",
              "      <th>oldbalanceDest</th>\n",
              "      <th>newbalanceDest</th>\n",
              "      <th>isFraud</th>\n",
              "      <th>type_CASH_IN</th>\n",
              "      <th>type_CASH_OUT</th>\n",
              "      <th>type_DEBIT</th>\n",
              "      <th>type_PAYMENT</th>\n",
              "      <th>type_TRANSFER</th>\n",
              "    </tr>\n",
              "  </thead>\n",
              "  <tbody>\n",
              "    <tr>\n",
              "      <th>16053</th>\n",
              "      <td>48265.24</td>\n",
              "      <td>51233.0</td>\n",
              "      <td>99498.24</td>\n",
              "      <td>0.00</td>\n",
              "      <td>0.00</td>\n",
              "      <td>0</td>\n",
              "      <td>1</td>\n",
              "      <td>0</td>\n",
              "      <td>0</td>\n",
              "      <td>0</td>\n",
              "      <td>0</td>\n",
              "    </tr>\n",
              "    <tr>\n",
              "      <th>11064</th>\n",
              "      <td>1259217.34</td>\n",
              "      <td>0.0</td>\n",
              "      <td>0.00</td>\n",
              "      <td>7753469.90</td>\n",
              "      <td>13033871.02</td>\n",
              "      <td>0</td>\n",
              "      <td>0</td>\n",
              "      <td>0</td>\n",
              "      <td>0</td>\n",
              "      <td>0</td>\n",
              "      <td>1</td>\n",
              "    </tr>\n",
              "    <tr>\n",
              "      <th>3526</th>\n",
              "      <td>11667.76</td>\n",
              "      <td>459092.0</td>\n",
              "      <td>447424.24</td>\n",
              "      <td>0.00</td>\n",
              "      <td>0.00</td>\n",
              "      <td>0</td>\n",
              "      <td>0</td>\n",
              "      <td>0</td>\n",
              "      <td>0</td>\n",
              "      <td>1</td>\n",
              "      <td>0</td>\n",
              "    </tr>\n",
              "    <tr>\n",
              "      <th>675</th>\n",
              "      <td>1928.55</td>\n",
              "      <td>5096.0</td>\n",
              "      <td>3167.45</td>\n",
              "      <td>0.00</td>\n",
              "      <td>0.00</td>\n",
              "      <td>0</td>\n",
              "      <td>0</td>\n",
              "      <td>0</td>\n",
              "      <td>0</td>\n",
              "      <td>1</td>\n",
              "      <td>0</td>\n",
              "    </tr>\n",
              "    <tr>\n",
              "      <th>46759</th>\n",
              "      <td>254919.35</td>\n",
              "      <td>0.0</td>\n",
              "      <td>0.00</td>\n",
              "      <td>319066.74</td>\n",
              "      <td>1051926.60</td>\n",
              "      <td>0</td>\n",
              "      <td>0</td>\n",
              "      <td>0</td>\n",
              "      <td>0</td>\n",
              "      <td>0</td>\n",
              "      <td>1</td>\n",
              "    </tr>\n",
              "  </tbody>\n",
              "</table>\n",
              "</div>"
            ],
            "text/plain": [
              "           amount  oldbalanceOrg  ...  type_PAYMENT  type_TRANSFER\n",
              "16053    48265.24        51233.0  ...             0              0\n",
              "11064  1259217.34            0.0  ...             0              1\n",
              "3526     11667.76       459092.0  ...             1              0\n",
              "675       1928.55         5096.0  ...             1              0\n",
              "46759   254919.35            0.0  ...             0              1\n",
              "\n",
              "[5 rows x 11 columns]"
            ]
          },
          "metadata": {
            "tags": []
          },
          "execution_count": 8
        }
      ]
    },
    {
      "cell_type": "code",
      "metadata": {
        "id": "sKdk6t3rhVhl"
      },
      "source": [
        "y = df.loc[:,'isFraud']\n",
        "X = df.drop(['isFraud'],axis =1)"
      ],
      "execution_count": null,
      "outputs": []
    },
    {
      "cell_type": "code",
      "metadata": {
        "id": "Cr_2lpCFaIGh"
      },
      "source": [
        "from sklearn.model_selection import train_test_split\n",
        "X_train,X_test,y_train,y_test=train_test_split(X,y,train_size=0.75,random_state=1231)"
      ],
      "execution_count": null,
      "outputs": []
    },
    {
      "cell_type": "code",
      "metadata": {
        "id": "V4gO1JSz-nmD",
        "colab": {
          "base_uri": "https://localhost:8080/",
          "height": 198
        },
        "outputId": "6265d49c-bc0d-4f70-a306-a354ab745f80"
      },
      "source": [
        "X_train.head()"
      ],
      "execution_count": null,
      "outputs": [
        {
          "output_type": "execute_result",
          "data": {
            "text/html": [
              "<div>\n",
              "<style scoped>\n",
              "    .dataframe tbody tr th:only-of-type {\n",
              "        vertical-align: middle;\n",
              "    }\n",
              "\n",
              "    .dataframe tbody tr th {\n",
              "        vertical-align: top;\n",
              "    }\n",
              "\n",
              "    .dataframe thead th {\n",
              "        text-align: right;\n",
              "    }\n",
              "</style>\n",
              "<table border=\"1\" class=\"dataframe\">\n",
              "  <thead>\n",
              "    <tr style=\"text-align: right;\">\n",
              "      <th></th>\n",
              "      <th>amount</th>\n",
              "      <th>oldbalanceOrg</th>\n",
              "      <th>newbalanceOrig</th>\n",
              "      <th>oldbalanceDest</th>\n",
              "      <th>newbalanceDest</th>\n",
              "      <th>type_CASH_IN</th>\n",
              "      <th>type_CASH_OUT</th>\n",
              "      <th>type_DEBIT</th>\n",
              "      <th>type_PAYMENT</th>\n",
              "      <th>type_TRANSFER</th>\n",
              "    </tr>\n",
              "  </thead>\n",
              "  <tbody>\n",
              "    <tr>\n",
              "      <th>26311</th>\n",
              "      <td>27190.50</td>\n",
              "      <td>0.0</td>\n",
              "      <td>0.00</td>\n",
              "      <td>0.0</td>\n",
              "      <td>0.0</td>\n",
              "      <td>0</td>\n",
              "      <td>0</td>\n",
              "      <td>0</td>\n",
              "      <td>1</td>\n",
              "      <td>0</td>\n",
              "    </tr>\n",
              "    <tr>\n",
              "      <th>30651</th>\n",
              "      <td>1719.82</td>\n",
              "      <td>1151.0</td>\n",
              "      <td>0.00</td>\n",
              "      <td>0.0</td>\n",
              "      <td>0.0</td>\n",
              "      <td>0</td>\n",
              "      <td>0</td>\n",
              "      <td>0</td>\n",
              "      <td>1</td>\n",
              "      <td>0</td>\n",
              "    </tr>\n",
              "    <tr>\n",
              "      <th>20183</th>\n",
              "      <td>6543.93</td>\n",
              "      <td>32884.0</td>\n",
              "      <td>26340.07</td>\n",
              "      <td>0.0</td>\n",
              "      <td>0.0</td>\n",
              "      <td>0</td>\n",
              "      <td>0</td>\n",
              "      <td>0</td>\n",
              "      <td>1</td>\n",
              "      <td>0</td>\n",
              "    </tr>\n",
              "    <tr>\n",
              "      <th>10910</th>\n",
              "      <td>1609.73</td>\n",
              "      <td>1996.0</td>\n",
              "      <td>386.27</td>\n",
              "      <td>0.0</td>\n",
              "      <td>0.0</td>\n",
              "      <td>0</td>\n",
              "      <td>0</td>\n",
              "      <td>0</td>\n",
              "      <td>1</td>\n",
              "      <td>0</td>\n",
              "    </tr>\n",
              "    <tr>\n",
              "      <th>19518</th>\n",
              "      <td>334256.80</td>\n",
              "      <td>28920.0</td>\n",
              "      <td>363176.80</td>\n",
              "      <td>11635.0</td>\n",
              "      <td>0.0</td>\n",
              "      <td>1</td>\n",
              "      <td>0</td>\n",
              "      <td>0</td>\n",
              "      <td>0</td>\n",
              "      <td>0</td>\n",
              "    </tr>\n",
              "  </tbody>\n",
              "</table>\n",
              "</div>"
            ],
            "text/plain": [
              "          amount  oldbalanceOrg  ...  type_PAYMENT  type_TRANSFER\n",
              "26311   27190.50            0.0  ...             1              0\n",
              "30651    1719.82         1151.0  ...             1              0\n",
              "20183    6543.93        32884.0  ...             1              0\n",
              "10910    1609.73         1996.0  ...             1              0\n",
              "19518  334256.80        28920.0  ...             0              0\n",
              "\n",
              "[5 rows x 10 columns]"
            ]
          },
          "metadata": {
            "tags": []
          },
          "execution_count": 11
        }
      ]
    },
    {
      "cell_type": "code",
      "metadata": {
        "id": "Acl5JsYKhcNo",
        "colab": {
          "base_uri": "https://localhost:8080/",
          "height": 126
        },
        "outputId": "78676bd7-eaff-4688-89fa-1886712bd622"
      },
      "source": [
        "y_train.head()"
      ],
      "execution_count": null,
      "outputs": [
        {
          "output_type": "execute_result",
          "data": {
            "text/plain": [
              "26311    0\n",
              "30651    0\n",
              "20183    0\n",
              "10910    0\n",
              "19518    0\n",
              "Name: isFraud, dtype: int64"
            ]
          },
          "metadata": {
            "tags": []
          },
          "execution_count": 12
        }
      ]
    },
    {
      "cell_type": "markdown",
      "metadata": {
        "id": "LnGQUUPFbG1z"
      },
      "source": [
        "# **Training The Model**\n",
        "\n",
        "BELOW IS THE CODE FOR TRAINING THE MODEL - ABOVE ALL THE CODE USED FOR CLEANING AND SPLITTING THE DATA FOR THE PROCESSING "
      ]
    },
    {
      "cell_type": "code",
      "metadata": {
        "id": "RsxmmwozmCSG"
      },
      "source": [
        "def generate_accuracy(model, x, y):\n",
        "#     cm = confusion_matrix(y,model.predict(x))\n",
        "#     sns.heatmap(cm,annot=True,fmt=\"d\")\n",
        "    ac = accuracy_score(y,model.predict(x))\n",
        "    f_score = f1_score(y,model.predict(x))\n",
        "    print('Accuracy is: ', ac)\n",
        "    print('F1 score is: ', f_score)"
      ],
      "execution_count": null,
      "outputs": []
    },
    {
      "cell_type": "code",
      "metadata": {
        "id": "3ZQrfG59AET8",
        "colab": {
          "base_uri": "https://localhost:8080/",
          "height": 138
        },
        "outputId": "33223677-e140-4348-c518-5577924fabd2"
      },
      "source": [
        "from sklearn.ensemble import RandomForestClassifier\n",
        "classifier = RandomForestClassifier(n_estimators = 50)\n",
        "classifier.fit(X_train, y_train)\n",
        "y_pred = classifier.predict(X_test)\n",
        "# Confusion Matrix\n",
        "confusion_matrix = pd.crosstab(y_test, y_pred, rownames=['Actual'], colnames=['Predicted'])\n",
        "confusion_matrix"
      ],
      "execution_count": null,
      "outputs": [
        {
          "output_type": "execute_result",
          "data": {
            "text/html": [
              "<div>\n",
              "<style scoped>\n",
              "    .dataframe tbody tr th:only-of-type {\n",
              "        vertical-align: middle;\n",
              "    }\n",
              "\n",
              "    .dataframe tbody tr th {\n",
              "        vertical-align: top;\n",
              "    }\n",
              "\n",
              "    .dataframe thead th {\n",
              "        text-align: right;\n",
              "    }\n",
              "</style>\n",
              "<table border=\"1\" class=\"dataframe\">\n",
              "  <thead>\n",
              "    <tr style=\"text-align: right;\">\n",
              "      <th>Predicted</th>\n",
              "      <th>0</th>\n",
              "      <th>1</th>\n",
              "    </tr>\n",
              "    <tr>\n",
              "      <th>Actual</th>\n",
              "      <th></th>\n",
              "      <th></th>\n",
              "    </tr>\n",
              "  </thead>\n",
              "  <tbody>\n",
              "    <tr>\n",
              "      <th>0</th>\n",
              "      <td>12579</td>\n",
              "      <td>2</td>\n",
              "    </tr>\n",
              "    <tr>\n",
              "      <th>1</th>\n",
              "      <td>14</td>\n",
              "      <td>12</td>\n",
              "    </tr>\n",
              "  </tbody>\n",
              "</table>\n",
              "</div>"
            ],
            "text/plain": [
              "Predicted      0   1\n",
              "Actual              \n",
              "0          12579   2\n",
              "1             14  12"
            ]
          },
          "metadata": {
            "tags": []
          },
          "execution_count": 14
        }
      ]
    },
    {
      "cell_type": "code",
      "metadata": {
        "id": "SsDjS347EEF1",
        "colab": {
          "base_uri": "https://localhost:8080/",
          "height": 54
        },
        "outputId": "d689d39f-6e90-464d-9e0f-8fbe74ed4454"
      },
      "source": [
        "generate_accuracy(classifier, X_test, y_test)"
      ],
      "execution_count": null,
      "outputs": [
        {
          "output_type": "stream",
          "text": [
            "Accuracy is:  0.9987308638058222\n",
            "F1 score is:  0.6\n"
          ],
          "name": "stdout"
        }
      ]
    },
    {
      "cell_type": "markdown",
      "metadata": {
        "id": "Sz5zX_ZAVeC8"
      },
      "source": [
        "# **TESTING THE MODEL WITH DUMMY DATASET**"
      ]
    },
    {
      "cell_type": "markdown",
      "metadata": {
        "id": "Wv1PUKMyRseF"
      },
      "source": [
        "TESTING THE MODEL USING SOME DUMMY DATASET CREATED BY TEAM "
      ]
    },
    {
      "cell_type": "code",
      "metadata": {
        "id": "CSN97fPBR21s",
        "colab": {
          "base_uri": "https://localhost:8080/",
          "height": 407
        },
        "outputId": "9e67fb57-73d6-4400-b375-a349a67e7217"
      },
      "source": [
        "dummy_data = pd.read_excel('/content/Dummy_data_testing.xlsx')\n",
        "#cleaning the dataset \n",
        "dummy_data_cleaned = dummy_data.drop(['nameOrig','nameDest','OrigCountry','DestCountry'], axis =1 ) \n",
        "dummy_data_cleaned=pd.get_dummies(dummy_data_cleaned)\n",
        "dummy_data_cleaned.head()\n",
        "shuffle(dummy_data_cleaned)"
      ],
      "execution_count": null,
      "outputs": [
        {
          "output_type": "execute_result",
          "data": {
            "text/html": [
              "<div>\n",
              "<style scoped>\n",
              "    .dataframe tbody tr th:only-of-type {\n",
              "        vertical-align: middle;\n",
              "    }\n",
              "\n",
              "    .dataframe tbody tr th {\n",
              "        vertical-align: top;\n",
              "    }\n",
              "\n",
              "    .dataframe thead th {\n",
              "        text-align: right;\n",
              "    }\n",
              "</style>\n",
              "<table border=\"1\" class=\"dataframe\">\n",
              "  <thead>\n",
              "    <tr style=\"text-align: right;\">\n",
              "      <th></th>\n",
              "      <th>amount</th>\n",
              "      <th>oldbalanceOrg</th>\n",
              "      <th>newbalanceOrig</th>\n",
              "      <th>oldbalanceDest</th>\n",
              "      <th>newbalanceDest</th>\n",
              "      <th>isFraud</th>\n",
              "      <th>type_CASH_IN</th>\n",
              "      <th>type_CASH_OUT</th>\n",
              "      <th>type_DEBIT</th>\n",
              "      <th>type_PAYMENT</th>\n",
              "      <th>type_TRANSFER</th>\n",
              "    </tr>\n",
              "  </thead>\n",
              "  <tbody>\n",
              "    <tr>\n",
              "      <th>40</th>\n",
              "      <td>373068.26</td>\n",
              "      <td>20034.00</td>\n",
              "      <td>0.00</td>\n",
              "      <td>1427960.73</td>\n",
              "      <td>2107778.11</td>\n",
              "      <td>0</td>\n",
              "      <td>0</td>\n",
              "      <td>1</td>\n",
              "      <td>0</td>\n",
              "      <td>0</td>\n",
              "      <td>0</td>\n",
              "    </tr>\n",
              "    <tr>\n",
              "      <th>95</th>\n",
              "      <td>37360.00</td>\n",
              "      <td>1558458.42</td>\n",
              "      <td>1595818.41</td>\n",
              "      <td>88544.15</td>\n",
              "      <td>51184.15</td>\n",
              "      <td>0</td>\n",
              "      <td>1</td>\n",
              "      <td>0</td>\n",
              "      <td>0</td>\n",
              "      <td>0</td>\n",
              "      <td>0</td>\n",
              "    </tr>\n",
              "    <tr>\n",
              "      <th>23</th>\n",
              "      <td>55536.86</td>\n",
              "      <td>0.00</td>\n",
              "      <td>0.00</td>\n",
              "      <td>915902.37</td>\n",
              "      <td>3420103.09</td>\n",
              "      <td>0</td>\n",
              "      <td>0</td>\n",
              "      <td>0</td>\n",
              "      <td>0</td>\n",
              "      <td>0</td>\n",
              "      <td>1</td>\n",
              "    </tr>\n",
              "    <tr>\n",
              "      <th>36</th>\n",
              "      <td>179253.24</td>\n",
              "      <td>0.00</td>\n",
              "      <td>0.00</td>\n",
              "      <td>179614.10</td>\n",
              "      <td>46462.23</td>\n",
              "      <td>0</td>\n",
              "      <td>0</td>\n",
              "      <td>0</td>\n",
              "      <td>0</td>\n",
              "      <td>0</td>\n",
              "      <td>1</td>\n",
              "    </tr>\n",
              "    <tr>\n",
              "      <th>25</th>\n",
              "      <td>928722.69</td>\n",
              "      <td>0.00</td>\n",
              "      <td>0.00</td>\n",
              "      <td>1259119.80</td>\n",
              "      <td>971418.91</td>\n",
              "      <td>0</td>\n",
              "      <td>0</td>\n",
              "      <td>0</td>\n",
              "      <td>0</td>\n",
              "      <td>0</td>\n",
              "      <td>1</td>\n",
              "    </tr>\n",
              "    <tr>\n",
              "      <th>...</th>\n",
              "      <td>...</td>\n",
              "      <td>...</td>\n",
              "      <td>...</td>\n",
              "      <td>...</td>\n",
              "      <td>...</td>\n",
              "      <td>...</td>\n",
              "      <td>...</td>\n",
              "      <td>...</td>\n",
              "      <td>...</td>\n",
              "      <td>...</td>\n",
              "      <td>...</td>\n",
              "    </tr>\n",
              "    <tr>\n",
              "      <th>90</th>\n",
              "      <td>13704.00</td>\n",
              "      <td>13704.00</td>\n",
              "      <td>0.00</td>\n",
              "      <td>0.00</td>\n",
              "      <td>1658746.09</td>\n",
              "      <td>1</td>\n",
              "      <td>0</td>\n",
              "      <td>0</td>\n",
              "      <td>0</td>\n",
              "      <td>0</td>\n",
              "      <td>1</td>\n",
              "    </tr>\n",
              "    <tr>\n",
              "      <th>58</th>\n",
              "      <td>231881.50</td>\n",
              "      <td>3401668.32</td>\n",
              "      <td>3633549.82</td>\n",
              "      <td>894141.72</td>\n",
              "      <td>2415.16</td>\n",
              "      <td>0</td>\n",
              "      <td>1</td>\n",
              "      <td>0</td>\n",
              "      <td>0</td>\n",
              "      <td>0</td>\n",
              "      <td>0</td>\n",
              "    </tr>\n",
              "    <tr>\n",
              "      <th>83</th>\n",
              "      <td>1096187.24</td>\n",
              "      <td>1096187.24</td>\n",
              "      <td>0.00</td>\n",
              "      <td>0.00</td>\n",
              "      <td>1096187.24</td>\n",
              "      <td>1</td>\n",
              "      <td>0</td>\n",
              "      <td>1</td>\n",
              "      <td>0</td>\n",
              "      <td>0</td>\n",
              "      <td>0</td>\n",
              "    </tr>\n",
              "    <tr>\n",
              "      <th>17</th>\n",
              "      <td>1123206.66</td>\n",
              "      <td>0.00</td>\n",
              "      <td>0.00</td>\n",
              "      <td>1773963.18</td>\n",
              "      <td>3940085.21</td>\n",
              "      <td>0</td>\n",
              "      <td>0</td>\n",
              "      <td>0</td>\n",
              "      <td>0</td>\n",
              "      <td>0</td>\n",
              "      <td>1</td>\n",
              "    </tr>\n",
              "    <tr>\n",
              "      <th>41</th>\n",
              "      <td>143236.26</td>\n",
              "      <td>0.00</td>\n",
              "      <td>143236.26</td>\n",
              "      <td>608932.17</td>\n",
              "      <td>97263.78</td>\n",
              "      <td>0</td>\n",
              "      <td>1</td>\n",
              "      <td>0</td>\n",
              "      <td>0</td>\n",
              "      <td>0</td>\n",
              "      <td>0</td>\n",
              "    </tr>\n",
              "  </tbody>\n",
              "</table>\n",
              "<p>99 rows × 11 columns</p>\n",
              "</div>"
            ],
            "text/plain": [
              "        amount  oldbalanceOrg  ...  type_PAYMENT  type_TRANSFER\n",
              "40   373068.26       20034.00  ...             0              0\n",
              "95    37360.00     1558458.42  ...             0              0\n",
              "23    55536.86           0.00  ...             0              1\n",
              "36   179253.24           0.00  ...             0              1\n",
              "25   928722.69           0.00  ...             0              1\n",
              "..         ...            ...  ...           ...            ...\n",
              "90    13704.00       13704.00  ...             0              1\n",
              "58   231881.50     3401668.32  ...             0              0\n",
              "83  1096187.24     1096187.24  ...             0              0\n",
              "17  1123206.66           0.00  ...             0              1\n",
              "41   143236.26           0.00  ...             0              0\n",
              "\n",
              "[99 rows x 11 columns]"
            ]
          },
          "metadata": {
            "tags": []
          },
          "execution_count": 29
        }
      ]
    },
    {
      "cell_type": "code",
      "metadata": {
        "id": "fjrKFlRSTB0d"
      },
      "source": [
        "y_dummy = dummy_data_cleaned.loc[:,'isFraud']\n",
        "X_dummy = dummy_data_cleaned.drop(['isFraud'],axis =1)"
      ],
      "execution_count": null,
      "outputs": []
    },
    {
      "cell_type": "code",
      "metadata": {
        "id": "GJE_VJ_2TMX3",
        "colab": {
          "base_uri": "https://localhost:8080/",
          "height": 108
        },
        "outputId": "20fb72f3-f25d-48d3-8e2c-92a3bab19ac6"
      },
      "source": [
        "classifier = RandomForestClassifier(n_estimators = 50)\n",
        "classifier.fit(X_train, y_train)\n",
        "y_pred = classifier.predict(X_dummy)\n",
        "# Confusion Matrix\n",
        "confusion_matrix = pd.crosstab(y_dummy, y_pred, rownames=['Actual'], colnames=['Predicted'])\n",
        "y_predictions=y_pred\n",
        "print(y_predictions)\n",
        "print(type(y_test))\n",
        "y_test.size"
      ],
      "execution_count": null,
      "outputs": [
        {
          "output_type": "stream",
          "text": [
            "[0 0 0 0 0 0 0 0 0 0 0 0 0 0 0 0 0 0 0 0 0 0 0 0 0 0 0 0 0 0 0 0 0 0 0 0 0\n",
            " 0 0 0 0 0 0 0 0 0 0 0 0 0 0 0 0 0 0 0 0 0 0 0 0 0 0 0 0 0 0 0 0 0 0 0 0 0\n",
            " 0 0 0 0 0 0 0 0 1 1 0 0 0 0 0 0 1 0 0 0 0 0 0 0 1]\n",
            "<class 'pandas.core.series.Series'>\n"
          ],
          "name": "stdout"
        },
        {
          "output_type": "execute_result",
          "data": {
            "text/plain": [
              "12607"
            ]
          },
          "metadata": {
            "tags": []
          },
          "execution_count": 31
        }
      ]
    },
    {
      "cell_type": "markdown",
      "metadata": {
        "id": "YWOm3M8pkn71"
      },
      "source": [
        "# Seting Up The Red Flag \n"
      ]
    },
    {
      "cell_type": "code",
      "metadata": {
        "id": "dhLoyBXIdTVI",
        "colab": {
          "base_uri": "https://localhost:8080/",
          "height": 198
        },
        "outputId": "18014f81-f4d1-4121-aefc-5e311e614a4c"
      },
      "source": [
        "y_predected_dummy=y_pred\n",
        "y_predected_dummy=list(y_predected_dummy)\n",
        "dummy_data=dummy_data.drop('isFraud',axis=1)\n",
        "dummy_data['isFraud']=y_predected_dummy\n",
        "dummy_data.head()"
      ],
      "execution_count": null,
      "outputs": [
        {
          "output_type": "execute_result",
          "data": {
            "text/html": [
              "<div>\n",
              "<style scoped>\n",
              "    .dataframe tbody tr th:only-of-type {\n",
              "        vertical-align: middle;\n",
              "    }\n",
              "\n",
              "    .dataframe tbody tr th {\n",
              "        vertical-align: top;\n",
              "    }\n",
              "\n",
              "    .dataframe thead th {\n",
              "        text-align: right;\n",
              "    }\n",
              "</style>\n",
              "<table border=\"1\" class=\"dataframe\">\n",
              "  <thead>\n",
              "    <tr style=\"text-align: right;\">\n",
              "      <th></th>\n",
              "      <th>type</th>\n",
              "      <th>amount</th>\n",
              "      <th>nameOrig</th>\n",
              "      <th>oldbalanceOrg</th>\n",
              "      <th>newbalanceOrig</th>\n",
              "      <th>nameDest</th>\n",
              "      <th>oldbalanceDest</th>\n",
              "      <th>newbalanceDest</th>\n",
              "      <th>OrigCountry</th>\n",
              "      <th>DestCountry</th>\n",
              "    </tr>\n",
              "  </thead>\n",
              "  <tbody>\n",
              "    <tr>\n",
              "      <th>0</th>\n",
              "      <td>CASH_OUT</td>\n",
              "      <td>229133.94</td>\n",
              "      <td>C905080434</td>\n",
              "      <td>15325.00</td>\n",
              "      <td>0.00</td>\n",
              "      <td>C476402209</td>\n",
              "      <td>5083.00</td>\n",
              "      <td>51513.44</td>\n",
              "      <td>AFGHANISTAN</td>\n",
              "      <td>CAPE VERDE</td>\n",
              "    </tr>\n",
              "    <tr>\n",
              "      <th>1</th>\n",
              "      <td>TRANSFER</td>\n",
              "      <td>311685.89</td>\n",
              "      <td>C1984094095</td>\n",
              "      <td>10835.00</td>\n",
              "      <td>0.00</td>\n",
              "      <td>C932583850</td>\n",
              "      <td>6267.00</td>\n",
              "      <td>2719172.89</td>\n",
              "      <td>HAITI</td>\n",
              "      <td>SRI LANKA</td>\n",
              "    </tr>\n",
              "    <tr>\n",
              "      <th>2</th>\n",
              "      <td>PAYMENT</td>\n",
              "      <td>7413.54</td>\n",
              "      <td>C1470868839</td>\n",
              "      <td>297689.58</td>\n",
              "      <td>290276.03</td>\n",
              "      <td>M1426725223</td>\n",
              "      <td>0.00</td>\n",
              "      <td>0.00</td>\n",
              "      <td>MYANMAR</td>\n",
              "      <td>PARAGUAY</td>\n",
              "    </tr>\n",
              "    <tr>\n",
              "      <th>3</th>\n",
              "      <td>PAYMENT</td>\n",
              "      <td>6660.33</td>\n",
              "      <td>C893523498</td>\n",
              "      <td>17710.00</td>\n",
              "      <td>11049.67</td>\n",
              "      <td>M1770070706</td>\n",
              "      <td>0.00</td>\n",
              "      <td>0.00</td>\n",
              "      <td>LAOS</td>\n",
              "      <td>BAHAMAS</td>\n",
              "    </tr>\n",
              "    <tr>\n",
              "      <th>4</th>\n",
              "      <td>TRANSFER</td>\n",
              "      <td>26923.42</td>\n",
              "      <td>C1108517064</td>\n",
              "      <td>11049.67</td>\n",
              "      <td>0.00</td>\n",
              "      <td>C1983747920</td>\n",
              "      <td>199404.91</td>\n",
              "      <td>95508.95</td>\n",
              "      <td>MOZAMBIQUE</td>\n",
              "      <td>TANZANIA</td>\n",
              "    </tr>\n",
              "  </tbody>\n",
              "</table>\n",
              "</div>"
            ],
            "text/plain": [
              "       type     amount     nameOrig  ...  newbalanceDest  OrigCountry DestCountry\n",
              "0  CASH_OUT  229133.94   C905080434  ...        51513.44  AFGHANISTAN  CAPE VERDE\n",
              "1  TRANSFER  311685.89  C1984094095  ...      2719172.89        HAITI   SRI LANKA\n",
              "2   PAYMENT    7413.54  C1470868839  ...            0.00      MYANMAR    PARAGUAY\n",
              "3   PAYMENT    6660.33   C893523498  ...            0.00         LAOS     BAHAMAS\n",
              "4  TRANSFER   26923.42  C1108517064  ...        95508.95   MOZAMBIQUE    TANZANIA\n",
              "\n",
              "[5 rows x 10 columns]"
            ]
          },
          "metadata": {
            "tags": []
          },
          "execution_count": 32
        }
      ]
    },
    {
      "cell_type": "code",
      "metadata": {
        "id": "ZrrXYS10fkmk"
      },
      "source": [
        "dummy_data['isFraud']=y_predected_dummy\n",
        "Red_Flagged= dummy_data[dummy_data['isFraud']==1]\n",
        "Red_Flagged.to_csv('Red_Flagged_Data.csv')\n",
        "dummy_data=dummy_data[dummy_data['isFraud']==0]"
      ],
      "execution_count": null,
      "outputs": []
    },
    {
      "cell_type": "markdown",
      "metadata": {
        "id": "fVGofCiIFCr8"
      },
      "source": [
        "#Counties Section"
      ]
    },
    {
      "cell_type": "code",
      "metadata": {
        "id": "-icOf3jqenJ-"
      },
      "source": [
        "df2 = pd.read_excel('/content/Contries_score.xlsx')\n",
        "df2=pd.DataFrame(df2)\n",
        "df2=df2.rename(columns={'Overall score':'score'})\n",
        "df2=df2[df2['score']>=6]"
      ],
      "execution_count": null,
      "outputs": []
    },
    {
      "cell_type": "code",
      "metadata": {
        "id": "iMfW9Fqb6UVI",
        "colab": {
          "base_uri": "https://localhost:8080/",
          "height": 617
        },
        "outputId": "24d71937-f65c-4bbd-824a-0cb4f5e6e903"
      },
      "source": [
        "country_score = pd.Series(df2.score.values,index=df2.Country).to_dict()\n",
        "country_score"
      ],
      "execution_count": null,
      "outputs": [
        {
          "output_type": "execute_result",
          "data": {
            "text/plain": [
              "{'AFGHANISTAN': 8.16,\n",
              " 'ALGERIA': 6.74,\n",
              " 'ANGOLA': 7.02,\n",
              " 'BAHAMAS': 6.43,\n",
              " 'BENIN': 6.85,\n",
              " 'BOLIVIA': 6.2,\n",
              " 'CAMBODIA': 7.1,\n",
              " 'CAPE VERDE': 6.52,\n",
              " 'CAYMAN ISLANDS': 7.64,\n",
              " 'CHINA': 6.76,\n",
              " \"COTE D'IVOIRE\": 6.78,\n",
              " 'HAITI': 8.15,\n",
              " 'KENYA': 7.18,\n",
              " 'KYRGYZSTAN': 6.32,\n",
              " 'LAOS': 7.82,\n",
              " 'LIBERIA': 6.25,\n",
              " 'MONGOLIA': 6.24,\n",
              " 'MOZAMBIQUE': 7.81,\n",
              " 'MYANMAR': 7.86,\n",
              " 'NICARAGUA': 6.78,\n",
              " 'NIGERIA': 6.88,\n",
              " 'PAKISTAN': 6.3,\n",
              " 'PARAGUAY': 6.45,\n",
              " 'SENEGAL': 7.3,\n",
              " 'SIERRA LEONE': 7.51,\n",
              " 'SRI LANKA': 6.52,\n",
              " 'TAJIKISTAN': 6.02,\n",
              " 'TANZANIA': 6.39,\n",
              " 'THAILAND': 6.01,\n",
              " 'VENEZUELA': 6.56,\n",
              " 'VIETNAM': 7.04,\n",
              " 'YEMEN': 7.12,\n",
              " 'ZIMBABWE': 6.54}"
            ]
          },
          "metadata": {
            "tags": []
          },
          "execution_count": 41
        }
      ]
    },
    {
      "cell_type": "markdown",
      "metadata": {
        "id": "Yjqhzhp4XvQq"
      },
      "source": [
        "# ORANGE NOTIFICATION SYSTEM"
      ]
    },
    {
      "cell_type": "code",
      "metadata": {
        "id": "kVeyvNnFXusx",
        "colab": {
          "base_uri": "https://localhost:8080/",
          "height": 407
        },
        "outputId": "971d2117-73a4-47ff-d30f-7434b4593e37"
      },
      "source": [
        "dummy_data=dummy_data[dummy_data['isFraud']==0]\n",
        "dummy_data.drop(columns='isFraud',inplace=True)\n",
        "dummy_data"
      ],
      "execution_count": null,
      "outputs": [
        {
          "output_type": "execute_result",
          "data": {
            "text/html": [
              "<div>\n",
              "<style scoped>\n",
              "    .dataframe tbody tr th:only-of-type {\n",
              "        vertical-align: middle;\n",
              "    }\n",
              "\n",
              "    .dataframe tbody tr th {\n",
              "        vertical-align: top;\n",
              "    }\n",
              "\n",
              "    .dataframe thead th {\n",
              "        text-align: right;\n",
              "    }\n",
              "</style>\n",
              "<table border=\"1\" class=\"dataframe\">\n",
              "  <thead>\n",
              "    <tr style=\"text-align: right;\">\n",
              "      <th></th>\n",
              "      <th>type</th>\n",
              "      <th>amount</th>\n",
              "      <th>nameOrig</th>\n",
              "      <th>oldbalanceOrg</th>\n",
              "      <th>newbalanceOrig</th>\n",
              "      <th>nameDest</th>\n",
              "      <th>oldbalanceDest</th>\n",
              "      <th>newbalanceDest</th>\n",
              "      <th>OrigCountry</th>\n",
              "      <th>DestCountry</th>\n",
              "    </tr>\n",
              "  </thead>\n",
              "  <tbody>\n",
              "    <tr>\n",
              "      <th>0</th>\n",
              "      <td>CASH_OUT</td>\n",
              "      <td>229133.94</td>\n",
              "      <td>C905080434</td>\n",
              "      <td>15325.00</td>\n",
              "      <td>0.00</td>\n",
              "      <td>C476402209</td>\n",
              "      <td>5083.00</td>\n",
              "      <td>51513.44</td>\n",
              "      <td>AFGHANISTAN</td>\n",
              "      <td>CAPE VERDE</td>\n",
              "    </tr>\n",
              "    <tr>\n",
              "      <th>1</th>\n",
              "      <td>CASH_IN</td>\n",
              "      <td>114271.72</td>\n",
              "      <td>C2072130509</td>\n",
              "      <td>3758738.27</td>\n",
              "      <td>3873009.99</td>\n",
              "      <td>C985934102</td>\n",
              "      <td>3170705.30</td>\n",
              "      <td>971418.91</td>\n",
              "      <td>ANDORRA</td>\n",
              "      <td>PANAMA</td>\n",
              "    </tr>\n",
              "    <tr>\n",
              "      <th>2</th>\n",
              "      <td>TRANSFER</td>\n",
              "      <td>1349670.68</td>\n",
              "      <td>C1419332030</td>\n",
              "      <td>0.00</td>\n",
              "      <td>0.00</td>\n",
              "      <td>C665576141</td>\n",
              "      <td>1538085.96</td>\n",
              "      <td>5515763.34</td>\n",
              "      <td>ANGOLA</td>\n",
              "      <td>INDONESIA</td>\n",
              "    </tr>\n",
              "    <tr>\n",
              "      <th>3</th>\n",
              "      <td>CASH_IN</td>\n",
              "      <td>418688.27</td>\n",
              "      <td>C1756819670</td>\n",
              "      <td>1888091.55</td>\n",
              "      <td>2306779.82</td>\n",
              "      <td>C401424608</td>\n",
              "      <td>956455.03</td>\n",
              "      <td>1178808.14</td>\n",
              "      <td>ANTIGUA AND BARBUDA</td>\n",
              "      <td>YEMEN</td>\n",
              "    </tr>\n",
              "    <tr>\n",
              "      <th>4</th>\n",
              "      <td>CASH_IN</td>\n",
              "      <td>380015.14</td>\n",
              "      <td>C1717433286</td>\n",
              "      <td>1508076.41</td>\n",
              "      <td>1888091.55</td>\n",
              "      <td>C401424608</td>\n",
              "      <td>1336470.16</td>\n",
              "      <td>1178808.14</td>\n",
              "      <td>ARGENTINA</td>\n",
              "      <td>KENYA</td>\n",
              "    </tr>\n",
              "    <tr>\n",
              "      <th>...</th>\n",
              "      <td>...</td>\n",
              "      <td>...</td>\n",
              "      <td>...</td>\n",
              "      <td>...</td>\n",
              "      <td>...</td>\n",
              "      <td>...</td>\n",
              "      <td>...</td>\n",
              "      <td>...</td>\n",
              "      <td>...</td>\n",
              "      <td>...</td>\n",
              "    </tr>\n",
              "    <tr>\n",
              "      <th>90</th>\n",
              "      <td>TRANSFER</td>\n",
              "      <td>1339661.93</td>\n",
              "      <td>C283492252</td>\n",
              "      <td>0.00</td>\n",
              "      <td>0.00</td>\n",
              "      <td>C1899073220</td>\n",
              "      <td>3043311.43</td>\n",
              "      <td>3208966.39</td>\n",
              "      <td>UNITED KINGDOM</td>\n",
              "      <td>INDIA</td>\n",
              "    </tr>\n",
              "    <tr>\n",
              "      <th>91</th>\n",
              "      <td>TRANSFER</td>\n",
              "      <td>55536.86</td>\n",
              "      <td>C332365138</td>\n",
              "      <td>0.00</td>\n",
              "      <td>0.00</td>\n",
              "      <td>C392292416</td>\n",
              "      <td>915902.37</td>\n",
              "      <td>3420103.09</td>\n",
              "      <td>URUGUAY</td>\n",
              "      <td>TAJIKISTAN</td>\n",
              "    </tr>\n",
              "    <tr>\n",
              "      <th>92</th>\n",
              "      <td>TRANSFER</td>\n",
              "      <td>495294.14</td>\n",
              "      <td>C651676429</td>\n",
              "      <td>0.00</td>\n",
              "      <td>0.00</td>\n",
              "      <td>C2083562754</td>\n",
              "      <td>2808555.73</td>\n",
              "      <td>5312631.16</td>\n",
              "      <td>VANUATU</td>\n",
              "      <td>UNITED KINGDOM</td>\n",
              "    </tr>\n",
              "    <tr>\n",
              "      <th>93</th>\n",
              "      <td>TRANSFER</td>\n",
              "      <td>2421578.09</td>\n",
              "      <td>C106297322</td>\n",
              "      <td>0.00</td>\n",
              "      <td>0.00</td>\n",
              "      <td>C1590550415</td>\n",
              "      <td>8515645.77</td>\n",
              "      <td>19169204.93</td>\n",
              "      <td>VIETNAM</td>\n",
              "      <td>COLOMBIA</td>\n",
              "    </tr>\n",
              "    <tr>\n",
              "      <th>94</th>\n",
              "      <td>TRANSFER</td>\n",
              "      <td>473499.51</td>\n",
              "      <td>C1198197478</td>\n",
              "      <td>0.00</td>\n",
              "      <td>0.00</td>\n",
              "      <td>C453211571</td>\n",
              "      <td>883248.39</td>\n",
              "      <td>3461666.05</td>\n",
              "      <td>YEMEN</td>\n",
              "      <td>SWITZERLAND</td>\n",
              "    </tr>\n",
              "  </tbody>\n",
              "</table>\n",
              "<p>95 rows × 10 columns</p>\n",
              "</div>"
            ],
            "text/plain": [
              "        type      amount  ...          OrigCountry     DestCountry\n",
              "0   CASH_OUT   229133.94  ...          AFGHANISTAN      CAPE VERDE\n",
              "1    CASH_IN   114271.72  ...              ANDORRA          PANAMA\n",
              "2   TRANSFER  1349670.68  ...               ANGOLA       INDONESIA\n",
              "3    CASH_IN   418688.27  ...  ANTIGUA AND BARBUDA           YEMEN\n",
              "4    CASH_IN   380015.14  ...            ARGENTINA           KENYA\n",
              "..       ...         ...  ...                  ...             ...\n",
              "90  TRANSFER  1339661.93  ...       UNITED KINGDOM           INDIA\n",
              "91  TRANSFER    55536.86  ...              URUGUAY      TAJIKISTAN\n",
              "92  TRANSFER   495294.14  ...              VANUATU  UNITED KINGDOM\n",
              "93  TRANSFER  2421578.09  ...              VIETNAM        COLOMBIA\n",
              "94  TRANSFER   473499.51  ...                YEMEN     SWITZERLAND\n",
              "\n",
              "[95 rows x 10 columns]"
            ]
          },
          "metadata": {
            "tags": []
          },
          "execution_count": 42
        }
      ]
    },
    {
      "cell_type": "code",
      "metadata": {
        "id": "6GpxnzKvXehA"
      },
      "source": [
        "orange_flag={}\n",
        "green_flag={}\n",
        "for i in dummy_data.index:\n",
        "  if dummy_data['OrigCountry'][i] in country_score.keys()or dummy_data['DestCountry'][i] in country_score.keys() :\n",
        "    if ((dummy_data['amount'][i] > 100000)):\n",
        "      orange_flag.update({dummy_data['nameOrig'][i]:'orange'})\n",
        "  else:\n",
        "    green_flag.update({dummy_data['nameOrig'][i]:'green'})"
      ],
      "execution_count": null,
      "outputs": []
    },
    {
      "cell_type": "code",
      "metadata": {
        "id": "e60mmA90Yy8d"
      },
      "source": [
        "orange=pd.DataFrame(orange_flag.items(),columns=['nameOrig', 'Flag'])"
      ],
      "execution_count": null,
      "outputs": []
    },
    {
      "cell_type": "code",
      "metadata": {
        "id": "JKWbrX99ZzBd"
      },
      "source": [
        "green=pd.DataFrame(green_flag.items(),columns=['nameOrig', 'Flag'])"
      ],
      "execution_count": null,
      "outputs": []
    },
    {
      "cell_type": "code",
      "metadata": {
        "id": "NAu6smxd69uw"
      },
      "source": [
        "df_orange=dummy_data.merge(orange,how=\"inner\")\n",
        "df_orange.to_csv('ORANGE_FLAGGED.csv')"
      ],
      "execution_count": null,
      "outputs": []
    },
    {
      "cell_type": "code",
      "metadata": {
        "id": "a1bLcn057KJq"
      },
      "source": [
        "df_green=dummy_data.merge(green,how=\"inner\")\n",
        "df_green.to_csv('Green_Flagged.csv')"
      ],
      "execution_count": null,
      "outputs": []
    },
    {
      "cell_type": "markdown",
      "metadata": {
        "id": "DEuW_8woIovn"
      },
      "source": [
        "# NOTIFICATION SYSTEM"
      ]
    },
    {
      "cell_type": "code",
      "metadata": {
        "id": "5kwSQZB8GeVf"
      },
      "source": [
        "from email.mime.multipart import MIMEMultipart\n",
        "from email.mime.text import MIMEText\n",
        "from email.mime.base import MIMEBase\n",
        "from email.mime.image import MIMEImage\n",
        "from email import encoders\n",
        "import smtplib"
      ],
      "execution_count": null,
      "outputs": []
    },
    {
      "cell_type": "code",
      "metadata": {
        "id": "tOf6k9u6EBNI",
        "colab": {
          "base_uri": "https://localhost:8080/",
          "height": 244
        },
        "outputId": "cb53b4e4-e497-4027-9b0e-15d5ff2ae7eb"
      },
      "source": [
        "\n",
        "red_file=\"/content/Red_Flagged_Data.csv\"\n",
        "\n",
        "sender_address = 'amlteam.lscg@gmail.com'\n",
        "sender_pass = 'lscg2020'                                                         \n",
        "receiver_address = 'tarun.tiwari1219@gmail.com'\n",
        "                                                                                \n",
        "message_content=\"\"\"\\\n",
        "<!DOCTYPE html>\n",
        "<html>\n",
        "    <body>\n",
        "        <h2 style=\"color:Red;\">ALERT!!!</h2>\n",
        "        <h5 style=\"color:SlateGray;\">Potential Money Laundering cases detected.</h5>\n",
        "        <h5 style=\"color:SlateGray;\">Data is attached along with the email.</h5>\n",
        "        <h5 style=\"color:SlateGray;\">Potential Money Laundering cases detected.</h5>\n",
        "        <h5 style=\"color:SlateGray;\">Update final result on akshit_web_link.com</h5>\n",
        "        <h6 style=\"color:Black;\">System generated email do not reply.</h6>\n",
        "        \n",
        "    </body>\n",
        "</html>\n",
        "\"\"\"\n",
        "message = MIMEMultipart()\n",
        "message['From'] = sender_address\n",
        "message['To'] = receiver_address\n",
        "message['Subject'] = 'DETECTED!!!' \n",
        "\n",
        "fp = open('lscg.png', 'rb') #Read image \n",
        "msgImage = MIMEImage(fp.read())\n",
        "fp.show()\n",
        "\n",
        "                                                                                                \n",
        "message.attach(MIMEText(message_content, 'html'))\n",
        "attach_file_name = red_file                                                            \n",
        "attach_file = open(attach_file_name, 'rb')                                      \n",
        "payload = MIMEBase('application', 'octate-stream')\n",
        "payload.set_payload((attach_file).read())\n",
        "encoders.encode_base64(payload)                                                 \n",
        "                                                                                                \n",
        "payload.add_header('Content-Decomposition', 'attachment', filename=attach_file_name)\n",
        "message.attach(payload)\n",
        "                                                                                                 \n",
        "session = smtplib.SMTP('smtp.gmail.com', 587)                                   \n",
        "session.starttls()                                                               \n",
        "session.login(sender_address, sender_pass)                                       \n",
        "text = message.as_string()\n",
        "session.sendmail(sender_address, receiver_address, text)\n",
        "session.quit()"
      ],
      "execution_count": null,
      "outputs": [
        {
          "output_type": "error",
          "ename": "FileNotFoundError",
          "evalue": "ignored",
          "traceback": [
            "\u001b[0;31m---------------------------------------------------------------------------\u001b[0m",
            "\u001b[0;31mFileNotFoundError\u001b[0m                         Traceback (most recent call last)",
            "\u001b[0;32m<ipython-input-60-7035a215a1e3>\u001b[0m in \u001b[0;36m<module>\u001b[0;34m()\u001b[0m\n\u001b[1;32m     24\u001b[0m \u001b[0mmessage\u001b[0m\u001b[0;34m[\u001b[0m\u001b[0;34m'Subject'\u001b[0m\u001b[0;34m]\u001b[0m \u001b[0;34m=\u001b[0m \u001b[0;34m'DETECTED!!!'\u001b[0m\u001b[0;34m\u001b[0m\u001b[0;34m\u001b[0m\u001b[0m\n\u001b[1;32m     25\u001b[0m \u001b[0;34m\u001b[0m\u001b[0m\n\u001b[0;32m---> 26\u001b[0;31m \u001b[0mfp\u001b[0m \u001b[0;34m=\u001b[0m \u001b[0mopen\u001b[0m\u001b[0;34m(\u001b[0m\u001b[0;34m'lscg.png'\u001b[0m\u001b[0;34m,\u001b[0m \u001b[0;34m'rb'\u001b[0m\u001b[0;34m)\u001b[0m \u001b[0;31m#Read image\u001b[0m\u001b[0;34m\u001b[0m\u001b[0;34m\u001b[0m\u001b[0m\n\u001b[0m\u001b[1;32m     27\u001b[0m \u001b[0mmsgImage\u001b[0m \u001b[0;34m=\u001b[0m \u001b[0mMIMEImage\u001b[0m\u001b[0;34m(\u001b[0m\u001b[0mfp\u001b[0m\u001b[0;34m.\u001b[0m\u001b[0mread\u001b[0m\u001b[0;34m(\u001b[0m\u001b[0;34m)\u001b[0m\u001b[0;34m)\u001b[0m\u001b[0;34m\u001b[0m\u001b[0;34m\u001b[0m\u001b[0m\n\u001b[1;32m     28\u001b[0m \u001b[0mfp\u001b[0m\u001b[0;34m.\u001b[0m\u001b[0mshow\u001b[0m\u001b[0;34m(\u001b[0m\u001b[0;34m)\u001b[0m\u001b[0;34m\u001b[0m\u001b[0;34m\u001b[0m\u001b[0m\n",
            "\u001b[0;31mFileNotFoundError\u001b[0m: [Errno 2] No such file or directory: 'lscg.png'"
          ]
        }
      ]
    },
    {
      "cell_type": "code",
      "metadata": {
        "id": "FEuGrh_w7jdj"
      },
      "source": [
        ""
      ],
      "execution_count": null,
      "outputs": []
    }
  ]
}